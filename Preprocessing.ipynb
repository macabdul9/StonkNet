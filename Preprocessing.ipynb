{
 "cells": [
  {
   "cell_type": "markdown",
   "metadata": {},
   "source": [
    "### 1. Dependencies"
   ]
  },
  {
   "cell_type": "code",
   "execution_count": 234,
   "metadata": {},
   "outputs": [],
   "source": [
    "import pandas as pd\n",
    "import os\n",
    "import json\n",
    "import random"
   ]
  },
  {
   "cell_type": "code",
   "execution_count": null,
   "metadata": {},
   "outputs": [],
   "source": [
    "##### Check whether "
   ]
  },
  {
   "cell_type": "code",
   "execution_count": 3,
   "metadata": {},
   "outputs": [],
   "source": [
    "allowed_stocks = ['AAPL', 'AMZN', 'BA', 'BABA', 'BAC', 'C', 'CAT', 'CELG', 'CSCO', 'CVX', 'D', 'DIS', 'FB', 'GE', 'GOOG', 'HD', 'INTC', 'JNJ', 'JPM', 'KO', 'MCD', 'MRK', 'MSFT', 'PCLN', 'PFE', 'T', 'V', 'VZ', 'WFC', 'WMT', 'XOM']"
   ]
  },
  {
   "cell_type": "code",
   "execution_count": 23,
   "metadata": {},
   "outputs": [],
   "source": [
    "tweet = os.listdir(\"./stocknet-dataset/tweet/raw\")\n",
    "price = os.listdir(\"./stocknet-dataset/price/preprocessed/\")"
   ]
  },
  {
   "cell_type": "code",
   "execution_count": 24,
   "metadata": {},
   "outputs": [],
   "source": [
    "tweet = [t.split(\".\")[0] for t in tweet]\n",
    "price = [p.split(\".\")[0] for p in price]"
   ]
  },
  {
   "cell_type": "code",
   "execution_count": 25,
   "metadata": {},
   "outputs": [],
   "source": [
    "areThereTweets, areTherePrice = 0, 0\n",
    "\n",
    "for stock in allowed_stocks:\n",
    "    if stock in tweet:\n",
    "        areThereTweets+=1\n",
    "    if stock in price:\n",
    "        areTherePrice+=1\n",
    "        "
   ]
  },
  {
   "cell_type": "code",
   "execution_count": 29,
   "metadata": {},
   "outputs": [
    {
     "name": "stdout",
     "output_type": "stream",
     "text": [
      "31 31 31\n"
     ]
    }
   ],
   "source": [
    "print(len(allowed_stocks), areThereTweets, areTherePrice)"
   ]
  },
  {
   "cell_type": "code",
   "execution_count": 28,
   "metadata": {},
   "outputs": [
    {
     "name": "stdout",
     "output_type": "stream",
     "text": [
      "88 87\n"
     ]
    }
   ],
   "source": [
    "print(len(price), len(tweet))"
   ]
  },
  {
   "cell_type": "code",
   "execution_count": 52,
   "metadata": {},
   "outputs": [],
   "source": [
    "df = pd.read_csv(\"./stocknet-dataset/price/raw/AMZN.csv\")"
   ]
  },
  {
   "cell_type": "code",
   "execution_count": 64,
   "metadata": {},
   "outputs": [],
   "source": [
    "tweet_dates = os.listdir(\"./stocknet-dataset/tweet/raw/AMZN/\")"
   ]
  },
  {
   "cell_type": "code",
   "execution_count": 65,
   "metadata": {},
   "outputs": [],
   "source": [
    "price_dates = list(df['Date'].values)"
   ]
  },
  {
   "cell_type": "code",
   "execution_count": 66,
   "metadata": {},
   "outputs": [
    {
     "data": {
      "text/plain": [
       "1258"
      ]
     },
     "execution_count": 66,
     "metadata": {},
     "output_type": "execute_result"
    }
   ],
   "source": [
    "len(price_dates)"
   ]
  },
  {
   "cell_type": "code",
   "execution_count": 67,
   "metadata": {},
   "outputs": [
    {
     "data": {
      "text/plain": [
       "759"
      ]
     },
     "execution_count": 67,
     "metadata": {},
     "output_type": "execute_result"
    }
   ],
   "source": [
    "len(tweet_dates)"
   ]
  },
  {
   "cell_type": "code",
   "execution_count": 68,
   "metadata": {},
   "outputs": [
    {
     "data": {
      "text/plain": [
       "531"
      ]
     },
     "execution_count": 68,
     "metadata": {},
     "output_type": "execute_result"
    }
   ],
   "source": [
    "len(set(tweet_dates) & set(price_dates))"
   ]
  },
  {
   "cell_type": "code",
   "execution_count": 48,
   "metadata": {},
   "outputs": [],
   "source": [
    "count = 0\n",
    "for tweet in tweet_dates:\n",
    "    if tweet not in price_dates:\n",
    "        count += 1\n",
    "        "
   ]
  },
  {
   "cell_type": "code",
   "execution_count": 51,
   "metadata": {},
   "outputs": [
    {
     "data": {
      "text/plain": [
       "480"
      ]
     },
     "execution_count": 51,
     "metadata": {},
     "output_type": "execute_result"
    }
   ],
   "source": [
    "len(tweet_dates) - count"
   ]
  },
  {
   "cell_type": "code",
   "execution_count": 79,
   "metadata": {},
   "outputs": [],
   "source": [
    "# set(tweet_dates) & set(price_dates)\n",
    "\n"
   ]
  },
  {
   "cell_type": "code",
   "execution_count": 97,
   "metadata": {},
   "outputs": [],
   "source": [
    "price = open(\"./stocknet-dataset/price/preprocessed/AAPL.txt\").read().splitlines()"
   ]
  },
  {
   "cell_type": "code",
   "execution_count": 99,
   "metadata": {},
   "outputs": [],
   "source": [
    "price_dates = [data.split(\"\\t\")[0] for data in price]"
   ]
  },
  {
   "cell_type": "code",
   "execution_count": 101,
   "metadata": {},
   "outputs": [],
   "source": [
    "# price_dates"
   ]
  },
  {
   "cell_type": "code",
   "execution_count": 105,
   "metadata": {},
   "outputs": [
    {
     "name": "stdout",
     "output_type": "stream",
     "text": [
      "AAPL : 539\n",
      "AMZN : 531\n",
      "BA : 380\n",
      "BABA : 347\n",
      "BAC : 496\n",
      "C : 498\n",
      "CAT : 371\n",
      "CELG : 418\n",
      "CSCO : 439\n",
      "CVX : 395\n",
      "D : 503\n",
      "DIS : 429\n",
      "FB : 537\n",
      "GE : 465\n",
      "GOOG : 533\n",
      "HD : 348\n",
      "INTC : 466\n",
      "JNJ : 419\n",
      "JPM : 474\n",
      "KO : 405\n",
      "MCD : 407\n",
      "MRK : 370\n",
      "MSFT : 521\n",
      "PCLN : 473\n",
      "PFE : 413\n",
      "T : 533\n",
      "V : 405\n",
      "VZ : 407\n",
      "WFC : 387\n",
      "WMT : 414\n",
      "XOM : 445\n"
     ]
    }
   ],
   "source": [
    "total = 0\n",
    "\n",
    "for stock in allowed_stocks:\n",
    "    \n",
    "    price_dates = list(pd.read_csv(\"./stocknet-dataset/price/raw/\"+stock+\".csv\")['Date'].values)\n",
    "    tweet_dates = os.listdir(\"./stocknet-dataset/tweet/raw/\"+stock)\n",
    "    \n",
    "    print(f'{stock} : {len(set(tweet_dates) & set(price_dates))}')\n",
    "    total += len(set(tweet_dates) & set(price_dates))"
   ]
  },
  {
   "cell_type": "code",
   "execution_count": 106,
   "metadata": {},
   "outputs": [
    {
     "data": {
      "text/plain": [
       "13768"
      ]
     },
     "execution_count": 106,
     "metadata": {},
     "output_type": "execute_result"
    }
   ],
   "source": [
    "total"
   ]
  },
  {
   "cell_type": "code",
   "execution_count": 117,
   "metadata": {},
   "outputs": [
    {
     "name": "stdout",
     "output_type": "stream",
     "text": [
      "AAPL : 480\n",
      "AMZN : 472\n",
      "BA : 335\n",
      "BABA : 292\n",
      "BAC : 438\n",
      "C : 445\n",
      "CAT : 327\n",
      "CELG : 369\n",
      "CSCO : 385\n",
      "CVX : 343\n",
      "D : 444\n",
      "DIS : 375\n",
      "FB : 478\n",
      "GE : 414\n",
      "GOOG : 474\n",
      "HD : 306\n",
      "INTC : 413\n",
      "JNJ : 375\n",
      "JPM : 420\n",
      "KO : 358\n",
      "MCD : 358\n",
      "MRK : 325\n",
      "MSFT : 464\n",
      "PCLN : 425\n",
      "PFE : 363\n",
      "T : 475\n",
      "V : 354\n",
      "VZ : 360\n",
      "WFC : 342\n",
      "WMT : 361\n",
      "XOM : 390\n"
     ]
    }
   ],
   "source": [
    "total = 0\n",
    "for stock in allowed_stocks:\n",
    "    \n",
    "    price = open(\"./stocknet-dataset/price/preprocessed/\"+stock+\".txt\").read().splitlines()\n",
    "    price_dates = [data.split(\"\\t\")[0] for data in price]\n",
    "\n",
    "    tweet_dates = os.listdir(\"./stocknet-dataset/tweet/preprocessed/\"+stock)\n",
    "    \n",
    "    print(f'{stock} : {len(set(tweet_dates) & set(price_dates))}')\n",
    "    total += len(set(tweet_dates) & set(price_dates))"
   ]
  },
  {
   "cell_type": "code",
   "execution_count": 203,
   "metadata": {},
   "outputs": [],
   "source": [
    "# total = 0\n",
    "\n",
    "train_stock_name = []\n",
    "train_stock_date = []\n",
    "train_stock_trend = []\n",
    "train_tweet_file = []\n",
    "\n",
    "valid_stock_name = []\n",
    "valid_stock_date = []\n",
    "valid_stock_trend = []\n",
    "valid_tweet_file = []\n",
    "\n",
    "# train = {}\n",
    "# valid = {}\n",
    "\n",
    "split = 0.85\n",
    "\n",
    "\n",
    "for stock in allowed_stocks:\n",
    "    \n",
    "    price_data = open(\"./stocknet-dataset/price/preprocessed/\"+stock+\".txt\").read().splitlines()\n",
    "    \n",
    "    price_dates = [data.split(\"\\t\")[0] for data in price_data]\n",
    "    price_closing_diff = [float(data.split(\"\\t\")[-2]) for data in price_data]\n",
    "    price_dict = dict(zip(price_dates, price_closing_diff))\n",
    "    \n",
    "    tweet_dates = os.listdir(\"./stocknet-dataset/tweet/preprocessed/\"+stock)\n",
    "    \n",
    "    \n",
    "    common = list(sorted(set(tweet_dates) & set(price_dates)))\n",
    "    \n",
    "    temp = random.randint(-10, 10)\n",
    "    \n",
    "    train = common[:int(len(common)*split)]\n",
    "    valid = common[int(len(common)*split):]\n",
    "    \n",
    "    for each in train:\n",
    "        if price_dict[each]>0.0:\n",
    "            trend = 1\n",
    "        else:\n",
    "            trend = 0\n",
    "            \n",
    "        train_stock_name.append(stock)\n",
    "        train_stock_date.append(each)\n",
    "        train_tweet_file.append(each)\n",
    "        train_stock_trend.append(trend)\n",
    "        \n",
    "    for each in valid:\n",
    "        if price_dict[each]>0.0:\n",
    "            trend = 1\n",
    "        else:\n",
    "            trend = 0\n",
    "            \n",
    "        valid_stock_name.append(stock)\n",
    "        valid_stock_date.append(each)\n",
    "        valid_tweet_file.append(each)\n",
    "        valid_stock_trend.append(trend)\n",
    "    \n",
    "\n",
    "train_df = pd.DataFrame(data={\n",
    "    \"Stock\":train_stock_name,\n",
    "    \"Date\":train_stock_date,\n",
    "    \"Trend\":train_stock_trend,\n",
    "    \"Tweet\":train_tweet_file,\n",
    "})\n",
    "\n",
    "train_df.to_csv(\"train.csv\", index=False)\n",
    "\n",
    "valid_df = pd.DataFrame(data={\n",
    "    \"Stock\":valid_stock_name,\n",
    "    \"Date\":valid_stock_date,\n",
    "    \"Trend\":valid_stock_trend,\n",
    "    \"Tweet\":valid_tweet_file,\n",
    "})\n",
    "\n",
    "valid_df.to_csv(\"valid.csv\", index=False)\n",
    "        \n",
    "    \n",
    "\n",
    "\n",
    "    \n",
    "    \n",
    "# #     print(f'{stock} : {len(set(tweet_dates) & set(price_dates))}')\n",
    "\n",
    "#     common = set(tweet_dates) & set(price_dates)\n",
    "    \n",
    "    \n",
    "#     train[stock] = list(common)[:int(len(common)-len(set(tweet_dates) & set(price_dates)) - len(set(tweet_dates) & set(price_dates))*split)]\n",
    "#     valid[stock] = list(common)[int(len(common)-len(set(tweet_dates) & set(price_dates)) - len(set(tweet_dates) & set(price_dates))*split):]\n",
    "    \n",
    "#     df = pd.read_csv(\"./stocknet-dataset/price/raw/\"+stock+\".csv\")\n",
    "    \n",
    "    \n",
    "    \n",
    "#     total += len(set(tweet_dates) & set(price_dates))\n",
    "# print(f\"Total = {total}\")"
   ]
  },
  {
   "cell_type": "code",
   "execution_count": 204,
   "metadata": {},
   "outputs": [
    {
     "name": "stdout",
     "output_type": "stream",
     "text": [
      "(10322, 4) (1838, 4)\n"
     ]
    }
   ],
   "source": [
    "print(train_df.shape, valid_df.shape)"
   ]
  },
  {
   "cell_type": "code",
   "execution_count": 205,
   "metadata": {},
   "outputs": [],
   "source": [
    "import random"
   ]
  },
  {
   "cell_type": "code",
   "execution_count": 233,
   "metadata": {},
   "outputs": [
    {
     "data": {
      "text/plain": [
       "-1"
      ]
     },
     "execution_count": 233,
     "metadata": {},
     "output_type": "execute_result"
    }
   ],
   "source": [
    "random.randint(-10, 10)"
   ]
  },
  {
   "cell_type": "code",
   "execution_count": null,
   "metadata": {},
   "outputs": [],
   "source": []
  },
  {
   "cell_type": "code",
   "execution_count": 235,
   "metadata": {},
   "outputs": [],
   "source": []
  },
  {
   "cell_type": "code",
   "execution_count": 238,
   "metadata": {},
   "outputs": [],
   "source": []
  },
  {
   "cell_type": "code",
   "execution_count": 248,
   "metadata": {},
   "outputs": [],
   "source": [
    "# df = pd.read_csv(\"valid.csv\")\n",
    "# tweets = list(df['Tweet'].values)\n",
    "# stocks = list(df['Stock'].values)\n",
    "\n",
    "# present = 0\n",
    "# not_present = 0\n",
    "\n",
    "# for i in range(len(tweets)):\n",
    "    \n",
    "#     if tweets[i] in os.listdir(\"./stocknet-dataset/tweet/preprocessed/\"+stocks[i]):\n",
    "#         present+=1\n",
    "#     else:\n",
    "#         not_present+=1\n",
    "# print(f'present = {present}, not present = {not_present}')"
   ]
  },
  {
   "cell_type": "code",
   "execution_count": 243,
   "metadata": {},
   "outputs": [
    {
     "data": {
      "text/plain": [
       "10322"
      ]
     },
     "execution_count": 243,
     "metadata": {},
     "output_type": "execute_result"
    }
   ],
   "source": [
    "present"
   ]
  },
  {
   "cell_type": "code",
   "execution_count": 244,
   "metadata": {},
   "outputs": [
    {
     "data": {
      "text/plain": [
       "0"
      ]
     },
     "execution_count": 244,
     "metadata": {},
     "output_type": "execute_result"
    }
   ],
   "source": [
    "not_present"
   ]
  },
  {
   "cell_type": "code",
   "execution_count": null,
   "metadata": {},
   "outputs": [],
   "source": []
  }
 ],
 "metadata": {
  "kernelspec": {
   "display_name": "Python 3.7.6 64-bit ('base': conda)",
   "language": "python",
   "name": "python37664bitbaseconda1b4d65181bfe435290e55078ed6e0090"
  },
  "language_info": {
   "codemirror_mode": {
    "name": "ipython",
    "version": 3
   },
   "file_extension": ".py",
   "mimetype": "text/x-python",
   "name": "python",
   "nbconvert_exporter": "python",
   "pygments_lexer": "ipython3",
   "version": "3.7.6"
  }
 },
 "nbformat": 4,
 "nbformat_minor": 4
}
