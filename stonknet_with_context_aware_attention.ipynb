{
  "nbformat": 4,
  "nbformat_minor": 0,
  "metadata": {
    "kernelspec": {
      "language": "python",
      "display_name": "Python 3",
      "name": "python3"
    },
    "language_info": {
      "name": "python",
      "version": "3.7.9",
      "mimetype": "text/x-python",
      "codemirror_mode": {
        "name": "ipython",
        "version": 3
      },
      "pygments_lexer": "ipython3",
      "nbconvert_exporter": "python",
      "file_extension": ".py"
    },
    "colab": {
      "name": "stonknet-with-context-aware-attention.ipynb",
      "provenance": [],
      "toc_visible": true
    },
    "accelerator": "GPU",
    "widgets": {
      "application/vnd.jupyter.widget-state+json": {
        "aab2656a71484487b2a2d8edb47de449": {
          "model_module": "@jupyter-widgets/controls",
          "model_name": "HBoxModel",
          "state": {
            "_view_name": "HBoxView",
            "_dom_classes": [],
            "_model_name": "HBoxModel",
            "_view_module": "@jupyter-widgets/controls",
            "_model_module_version": "1.5.0",
            "_view_count": null,
            "_view_module_version": "1.5.0",
            "box_style": "",
            "layout": "IPY_MODEL_155609510ea14741813a0dfc2e750dd0",
            "_model_module": "@jupyter-widgets/controls",
            "children": [
              "IPY_MODEL_b446c642afe94d54b2b4b85fef4a486e",
              "IPY_MODEL_c69c27bdb0ea49129353f67e8b82c630"
            ]
          }
        },
        "155609510ea14741813a0dfc2e750dd0": {
          "model_module": "@jupyter-widgets/base",
          "model_name": "LayoutModel",
          "state": {
            "_view_name": "LayoutView",
            "grid_template_rows": null,
            "right": null,
            "justify_content": null,
            "_view_module": "@jupyter-widgets/base",
            "overflow": null,
            "_model_module_version": "1.2.0",
            "_view_count": null,
            "flex_flow": "row wrap",
            "width": "100%",
            "min_width": null,
            "border": null,
            "align_items": null,
            "bottom": null,
            "_model_module": "@jupyter-widgets/base",
            "top": null,
            "grid_column": null,
            "overflow_y": null,
            "overflow_x": null,
            "grid_auto_flow": null,
            "grid_area": null,
            "grid_template_columns": null,
            "flex": null,
            "_model_name": "LayoutModel",
            "justify_items": null,
            "grid_row": null,
            "max_height": null,
            "align_content": null,
            "visibility": null,
            "align_self": null,
            "height": null,
            "min_height": null,
            "padding": null,
            "grid_auto_rows": null,
            "grid_gap": null,
            "max_width": null,
            "order": null,
            "_view_module_version": "1.2.0",
            "grid_template_areas": null,
            "object_position": null,
            "object_fit": null,
            "grid_auto_columns": null,
            "margin": null,
            "display": "inline-flex",
            "left": null
          }
        },
        "b446c642afe94d54b2b4b85fef4a486e": {
          "model_module": "@jupyter-widgets/controls",
          "model_name": "FloatProgressModel",
          "state": {
            "_view_name": "ProgressView",
            "style": "IPY_MODEL_034a9f6e381443a2af2cbac41521fb3e",
            "_dom_classes": [],
            "description": "Validation sanity check: 100%",
            "_model_name": "FloatProgressModel",
            "bar_style": "info",
            "max": 2,
            "_view_module": "@jupyter-widgets/controls",
            "_model_module_version": "1.5.0",
            "value": 2,
            "_view_count": null,
            "_view_module_version": "1.5.0",
            "orientation": "horizontal",
            "min": 0,
            "description_tooltip": null,
            "_model_module": "@jupyter-widgets/controls",
            "layout": "IPY_MODEL_9f7d9b4df1cc4253b42861ada8fc3cbb"
          }
        },
        "c69c27bdb0ea49129353f67e8b82c630": {
          "model_module": "@jupyter-widgets/controls",
          "model_name": "HTMLModel",
          "state": {
            "_view_name": "HTMLView",
            "style": "IPY_MODEL_e665f04941c64a868013ae0000254ebe",
            "_dom_classes": [],
            "description": "",
            "_model_name": "HTMLModel",
            "placeholder": "​",
            "_view_module": "@jupyter-widgets/controls",
            "_model_module_version": "1.5.0",
            "value": " 2/2 [00:04&lt;00:00,  2.35s/it]",
            "_view_count": null,
            "_view_module_version": "1.5.0",
            "description_tooltip": null,
            "_model_module": "@jupyter-widgets/controls",
            "layout": "IPY_MODEL_84286669d30845abb628b9bb05c2f504"
          }
        },
        "034a9f6e381443a2af2cbac41521fb3e": {
          "model_module": "@jupyter-widgets/controls",
          "model_name": "ProgressStyleModel",
          "state": {
            "_view_name": "StyleView",
            "_model_name": "ProgressStyleModel",
            "description_width": "initial",
            "_view_module": "@jupyter-widgets/base",
            "_model_module_version": "1.5.0",
            "_view_count": null,
            "_view_module_version": "1.2.0",
            "bar_color": null,
            "_model_module": "@jupyter-widgets/controls"
          }
        },
        "9f7d9b4df1cc4253b42861ada8fc3cbb": {
          "model_module": "@jupyter-widgets/base",
          "model_name": "LayoutModel",
          "state": {
            "_view_name": "LayoutView",
            "grid_template_rows": null,
            "right": null,
            "justify_content": null,
            "_view_module": "@jupyter-widgets/base",
            "overflow": null,
            "_model_module_version": "1.2.0",
            "_view_count": null,
            "flex_flow": null,
            "width": null,
            "min_width": null,
            "border": null,
            "align_items": null,
            "bottom": null,
            "_model_module": "@jupyter-widgets/base",
            "top": null,
            "grid_column": null,
            "overflow_y": null,
            "overflow_x": null,
            "grid_auto_flow": null,
            "grid_area": null,
            "grid_template_columns": null,
            "flex": "2",
            "_model_name": "LayoutModel",
            "justify_items": null,
            "grid_row": null,
            "max_height": null,
            "align_content": null,
            "visibility": null,
            "align_self": null,
            "height": null,
            "min_height": null,
            "padding": null,
            "grid_auto_rows": null,
            "grid_gap": null,
            "max_width": null,
            "order": null,
            "_view_module_version": "1.2.0",
            "grid_template_areas": null,
            "object_position": null,
            "object_fit": null,
            "grid_auto_columns": null,
            "margin": null,
            "display": null,
            "left": null
          }
        },
        "e665f04941c64a868013ae0000254ebe": {
          "model_module": "@jupyter-widgets/controls",
          "model_name": "DescriptionStyleModel",
          "state": {
            "_view_name": "StyleView",
            "_model_name": "DescriptionStyleModel",
            "description_width": "",
            "_view_module": "@jupyter-widgets/base",
            "_model_module_version": "1.5.0",
            "_view_count": null,
            "_view_module_version": "1.2.0",
            "_model_module": "@jupyter-widgets/controls"
          }
        },
        "84286669d30845abb628b9bb05c2f504": {
          "model_module": "@jupyter-widgets/base",
          "model_name": "LayoutModel",
          "state": {
            "_view_name": "LayoutView",
            "grid_template_rows": null,
            "right": null,
            "justify_content": null,
            "_view_module": "@jupyter-widgets/base",
            "overflow": null,
            "_model_module_version": "1.2.0",
            "_view_count": null,
            "flex_flow": null,
            "width": null,
            "min_width": null,
            "border": null,
            "align_items": null,
            "bottom": null,
            "_model_module": "@jupyter-widgets/base",
            "top": null,
            "grid_column": null,
            "overflow_y": null,
            "overflow_x": null,
            "grid_auto_flow": null,
            "grid_area": null,
            "grid_template_columns": null,
            "flex": null,
            "_model_name": "LayoutModel",
            "justify_items": null,
            "grid_row": null,
            "max_height": null,
            "align_content": null,
            "visibility": null,
            "align_self": null,
            "height": null,
            "min_height": null,
            "padding": null,
            "grid_auto_rows": null,
            "grid_gap": null,
            "max_width": null,
            "order": null,
            "_view_module_version": "1.2.0",
            "grid_template_areas": null,
            "object_position": null,
            "object_fit": null,
            "grid_auto_columns": null,
            "margin": null,
            "display": null,
            "left": null
          }
        },
        "2998793d2285429b9a4557a9a9801a53": {
          "model_module": "@jupyter-widgets/controls",
          "model_name": "HBoxModel",
          "state": {
            "_view_name": "HBoxView",
            "_dom_classes": [],
            "_model_name": "HBoxModel",
            "_view_module": "@jupyter-widgets/controls",
            "_model_module_version": "1.5.0",
            "_view_count": null,
            "_view_module_version": "1.5.0",
            "box_style": "",
            "layout": "IPY_MODEL_4c4170bd1bc240c7a6e9f1f533e009df",
            "_model_module": "@jupyter-widgets/controls",
            "children": [
              "IPY_MODEL_6feb41c02afa4bc49d875d7747d59eaf",
              "IPY_MODEL_ee006fb7a42a4260af4e512af39c8563"
            ]
          }
        },
        "4c4170bd1bc240c7a6e9f1f533e009df": {
          "model_module": "@jupyter-widgets/base",
          "model_name": "LayoutModel",
          "state": {
            "_view_name": "LayoutView",
            "grid_template_rows": null,
            "right": null,
            "justify_content": null,
            "_view_module": "@jupyter-widgets/base",
            "overflow": null,
            "_model_module_version": "1.2.0",
            "_view_count": null,
            "flex_flow": "row wrap",
            "width": "100%",
            "min_width": null,
            "border": null,
            "align_items": null,
            "bottom": null,
            "_model_module": "@jupyter-widgets/base",
            "top": null,
            "grid_column": null,
            "overflow_y": null,
            "overflow_x": null,
            "grid_auto_flow": null,
            "grid_area": null,
            "grid_template_columns": null,
            "flex": null,
            "_model_name": "LayoutModel",
            "justify_items": null,
            "grid_row": null,
            "max_height": null,
            "align_content": null,
            "visibility": null,
            "align_self": null,
            "height": null,
            "min_height": null,
            "padding": null,
            "grid_auto_rows": null,
            "grid_gap": null,
            "max_width": null,
            "order": null,
            "_view_module_version": "1.2.0",
            "grid_template_areas": null,
            "object_position": null,
            "object_fit": null,
            "grid_auto_columns": null,
            "margin": null,
            "display": "inline-flex",
            "left": null
          }
        },
        "6feb41c02afa4bc49d875d7747d59eaf": {
          "model_module": "@jupyter-widgets/controls",
          "model_name": "FloatProgressModel",
          "state": {
            "_view_name": "ProgressView",
            "style": "IPY_MODEL_60c8012ca42e49c0802eb5b901905e5a",
            "_dom_classes": [],
            "description": "Epoch 2:  33%",
            "_model_name": "FloatProgressModel",
            "bar_style": "info",
            "max": 12160,
            "_view_module": "@jupyter-widgets/controls",
            "_model_module_version": "1.5.0",
            "value": 4054,
            "_view_count": null,
            "_view_module_version": "1.5.0",
            "orientation": "horizontal",
            "min": 0,
            "description_tooltip": null,
            "_model_module": "@jupyter-widgets/controls",
            "layout": "IPY_MODEL_d8bf76abd7654b56acf6305567e324d3"
          }
        },
        "ee006fb7a42a4260af4e512af39c8563": {
          "model_module": "@jupyter-widgets/controls",
          "model_name": "HTMLModel",
          "state": {
            "_view_name": "HTMLView",
            "style": "IPY_MODEL_ef31e405544b44188e8c35758a0f8d77",
            "_dom_classes": [],
            "description": "",
            "_model_name": "HTMLModel",
            "placeholder": "​",
            "_view_module": "@jupyter-widgets/controls",
            "_model_module_version": "1.5.0",
            "value": " 4054/12160 [31:44&lt;1:03:27,  2.13it/s, loss=0.693, v_num=bv6u]",
            "_view_count": null,
            "_view_module_version": "1.5.0",
            "description_tooltip": null,
            "_model_module": "@jupyter-widgets/controls",
            "layout": "IPY_MODEL_367e1f6264b64635ac29ed7542e0c6aa"
          }
        },
        "60c8012ca42e49c0802eb5b901905e5a": {
          "model_module": "@jupyter-widgets/controls",
          "model_name": "ProgressStyleModel",
          "state": {
            "_view_name": "StyleView",
            "_model_name": "ProgressStyleModel",
            "description_width": "initial",
            "_view_module": "@jupyter-widgets/base",
            "_model_module_version": "1.5.0",
            "_view_count": null,
            "_view_module_version": "1.2.0",
            "bar_color": null,
            "_model_module": "@jupyter-widgets/controls"
          }
        },
        "d8bf76abd7654b56acf6305567e324d3": {
          "model_module": "@jupyter-widgets/base",
          "model_name": "LayoutModel",
          "state": {
            "_view_name": "LayoutView",
            "grid_template_rows": null,
            "right": null,
            "justify_content": null,
            "_view_module": "@jupyter-widgets/base",
            "overflow": null,
            "_model_module_version": "1.2.0",
            "_view_count": null,
            "flex_flow": null,
            "width": null,
            "min_width": null,
            "border": null,
            "align_items": null,
            "bottom": null,
            "_model_module": "@jupyter-widgets/base",
            "top": null,
            "grid_column": null,
            "overflow_y": null,
            "overflow_x": null,
            "grid_auto_flow": null,
            "grid_area": null,
            "grid_template_columns": null,
            "flex": "2",
            "_model_name": "LayoutModel",
            "justify_items": null,
            "grid_row": null,
            "max_height": null,
            "align_content": null,
            "visibility": null,
            "align_self": null,
            "height": null,
            "min_height": null,
            "padding": null,
            "grid_auto_rows": null,
            "grid_gap": null,
            "max_width": null,
            "order": null,
            "_view_module_version": "1.2.0",
            "grid_template_areas": null,
            "object_position": null,
            "object_fit": null,
            "grid_auto_columns": null,
            "margin": null,
            "display": null,
            "left": null
          }
        },
        "ef31e405544b44188e8c35758a0f8d77": {
          "model_module": "@jupyter-widgets/controls",
          "model_name": "DescriptionStyleModel",
          "state": {
            "_view_name": "StyleView",
            "_model_name": "DescriptionStyleModel",
            "description_width": "",
            "_view_module": "@jupyter-widgets/base",
            "_model_module_version": "1.5.0",
            "_view_count": null,
            "_view_module_version": "1.2.0",
            "_model_module": "@jupyter-widgets/controls"
          }
        },
        "367e1f6264b64635ac29ed7542e0c6aa": {
          "model_module": "@jupyter-widgets/base",
          "model_name": "LayoutModel",
          "state": {
            "_view_name": "LayoutView",
            "grid_template_rows": null,
            "right": null,
            "justify_content": null,
            "_view_module": "@jupyter-widgets/base",
            "overflow": null,
            "_model_module_version": "1.2.0",
            "_view_count": null,
            "flex_flow": null,
            "width": null,
            "min_width": null,
            "border": null,
            "align_items": null,
            "bottom": null,
            "_model_module": "@jupyter-widgets/base",
            "top": null,
            "grid_column": null,
            "overflow_y": null,
            "overflow_x": null,
            "grid_auto_flow": null,
            "grid_area": null,
            "grid_template_columns": null,
            "flex": null,
            "_model_name": "LayoutModel",
            "justify_items": null,
            "grid_row": null,
            "max_height": null,
            "align_content": null,
            "visibility": null,
            "align_self": null,
            "height": null,
            "min_height": null,
            "padding": null,
            "grid_auto_rows": null,
            "grid_gap": null,
            "max_width": null,
            "order": null,
            "_view_module_version": "1.2.0",
            "grid_template_areas": null,
            "object_position": null,
            "object_fit": null,
            "grid_auto_columns": null,
            "margin": null,
            "display": null,
            "left": null
          }
        },
        "361b986d412b4172b543bc418aea288a": {
          "model_module": "@jupyter-widgets/controls",
          "model_name": "HBoxModel",
          "state": {
            "_view_name": "HBoxView",
            "_dom_classes": [],
            "_model_name": "HBoxModel",
            "_view_module": "@jupyter-widgets/controls",
            "_model_module_version": "1.5.0",
            "_view_count": null,
            "_view_module_version": "1.5.0",
            "box_style": "",
            "layout": "IPY_MODEL_270afa10327341dcabda436b88eb5021",
            "_model_module": "@jupyter-widgets/controls",
            "children": [
              "IPY_MODEL_92eea6a795a54b389427af54b02b91b8",
              "IPY_MODEL_d743568896274ea4a8bc974646efaddc"
            ]
          }
        },
        "270afa10327341dcabda436b88eb5021": {
          "model_module": "@jupyter-widgets/base",
          "model_name": "LayoutModel",
          "state": {
            "_view_name": "LayoutView",
            "grid_template_rows": null,
            "right": null,
            "justify_content": null,
            "_view_module": "@jupyter-widgets/base",
            "overflow": null,
            "_model_module_version": "1.2.0",
            "_view_count": null,
            "flex_flow": "row wrap",
            "width": "100%",
            "min_width": null,
            "border": null,
            "align_items": null,
            "bottom": null,
            "_model_module": "@jupyter-widgets/base",
            "top": null,
            "grid_column": null,
            "overflow_y": null,
            "overflow_x": null,
            "grid_auto_flow": null,
            "grid_area": null,
            "grid_template_columns": null,
            "flex": null,
            "_model_name": "LayoutModel",
            "justify_items": null,
            "grid_row": null,
            "max_height": null,
            "align_content": null,
            "visibility": null,
            "align_self": null,
            "height": null,
            "min_height": null,
            "padding": null,
            "grid_auto_rows": null,
            "grid_gap": null,
            "max_width": null,
            "order": null,
            "_view_module_version": "1.2.0",
            "grid_template_areas": null,
            "object_position": null,
            "object_fit": null,
            "grid_auto_columns": null,
            "margin": null,
            "display": "inline-flex",
            "left": null
          }
        },
        "92eea6a795a54b389427af54b02b91b8": {
          "model_module": "@jupyter-widgets/controls",
          "model_name": "FloatProgressModel",
          "state": {
            "_view_name": "ProgressView",
            "style": "IPY_MODEL_f37bcc91923e4f3e9a19b28b925d1e11",
            "_dom_classes": [],
            "description": "Validating: 100%",
            "_model_name": "FloatProgressModel",
            "bar_style": "info",
            "max": 1838,
            "_view_module": "@jupyter-widgets/controls",
            "_model_module_version": "1.5.0",
            "value": 1838,
            "_view_count": null,
            "_view_module_version": "1.5.0",
            "orientation": "horizontal",
            "min": 0,
            "description_tooltip": null,
            "_model_module": "@jupyter-widgets/controls",
            "layout": "IPY_MODEL_2b0a596153a242838a11ce75de30cb08"
          }
        },
        "d743568896274ea4a8bc974646efaddc": {
          "model_module": "@jupyter-widgets/controls",
          "model_name": "HTMLModel",
          "state": {
            "_view_name": "HTMLView",
            "style": "IPY_MODEL_27c6fe1954134a69b1b6e70c258bed52",
            "_dom_classes": [],
            "description": "",
            "_model_name": "HTMLModel",
            "placeholder": "​",
            "_view_module": "@jupyter-widgets/controls",
            "_model_module_version": "1.5.0",
            "value": " 1838/1838 [11:43&lt;00:00,  4.21it/s]",
            "_view_count": null,
            "_view_module_version": "1.5.0",
            "description_tooltip": null,
            "_model_module": "@jupyter-widgets/controls",
            "layout": "IPY_MODEL_c6f3939fc5fc4b7096d2488fd65539b4"
          }
        },
        "f37bcc91923e4f3e9a19b28b925d1e11": {
          "model_module": "@jupyter-widgets/controls",
          "model_name": "ProgressStyleModel",
          "state": {
            "_view_name": "StyleView",
            "_model_name": "ProgressStyleModel",
            "description_width": "initial",
            "_view_module": "@jupyter-widgets/base",
            "_model_module_version": "1.5.0",
            "_view_count": null,
            "_view_module_version": "1.2.0",
            "bar_color": null,
            "_model_module": "@jupyter-widgets/controls"
          }
        },
        "2b0a596153a242838a11ce75de30cb08": {
          "model_module": "@jupyter-widgets/base",
          "model_name": "LayoutModel",
          "state": {
            "_view_name": "LayoutView",
            "grid_template_rows": null,
            "right": null,
            "justify_content": null,
            "_view_module": "@jupyter-widgets/base",
            "overflow": null,
            "_model_module_version": "1.2.0",
            "_view_count": null,
            "flex_flow": null,
            "width": null,
            "min_width": null,
            "border": null,
            "align_items": null,
            "bottom": null,
            "_model_module": "@jupyter-widgets/base",
            "top": null,
            "grid_column": null,
            "overflow_y": null,
            "overflow_x": null,
            "grid_auto_flow": null,
            "grid_area": null,
            "grid_template_columns": null,
            "flex": "2",
            "_model_name": "LayoutModel",
            "justify_items": null,
            "grid_row": null,
            "max_height": null,
            "align_content": null,
            "visibility": null,
            "align_self": null,
            "height": null,
            "min_height": null,
            "padding": null,
            "grid_auto_rows": null,
            "grid_gap": null,
            "max_width": null,
            "order": null,
            "_view_module_version": "1.2.0",
            "grid_template_areas": null,
            "object_position": null,
            "object_fit": null,
            "grid_auto_columns": null,
            "margin": null,
            "display": null,
            "left": null
          }
        },
        "27c6fe1954134a69b1b6e70c258bed52": {
          "model_module": "@jupyter-widgets/controls",
          "model_name": "DescriptionStyleModel",
          "state": {
            "_view_name": "StyleView",
            "_model_name": "DescriptionStyleModel",
            "description_width": "",
            "_view_module": "@jupyter-widgets/base",
            "_model_module_version": "1.5.0",
            "_view_count": null,
            "_view_module_version": "1.2.0",
            "_model_module": "@jupyter-widgets/controls"
          }
        },
        "c6f3939fc5fc4b7096d2488fd65539b4": {
          "model_module": "@jupyter-widgets/base",
          "model_name": "LayoutModel",
          "state": {
            "_view_name": "LayoutView",
            "grid_template_rows": null,
            "right": null,
            "justify_content": null,
            "_view_module": "@jupyter-widgets/base",
            "overflow": null,
            "_model_module_version": "1.2.0",
            "_view_count": null,
            "flex_flow": null,
            "width": null,
            "min_width": null,
            "border": null,
            "align_items": null,
            "bottom": null,
            "_model_module": "@jupyter-widgets/base",
            "top": null,
            "grid_column": null,
            "overflow_y": null,
            "overflow_x": null,
            "grid_auto_flow": null,
            "grid_area": null,
            "grid_template_columns": null,
            "flex": null,
            "_model_name": "LayoutModel",
            "justify_items": null,
            "grid_row": null,
            "max_height": null,
            "align_content": null,
            "visibility": null,
            "align_self": null,
            "height": null,
            "min_height": null,
            "padding": null,
            "grid_auto_rows": null,
            "grid_gap": null,
            "max_width": null,
            "order": null,
            "_view_module_version": "1.2.0",
            "grid_template_areas": null,
            "object_position": null,
            "object_fit": null,
            "grid_auto_columns": null,
            "margin": null,
            "display": null,
            "left": null
          }
        },
        "84aca56721fb446782f351868a8fa8fa": {
          "model_module": "@jupyter-widgets/controls",
          "model_name": "HBoxModel",
          "state": {
            "_view_name": "HBoxView",
            "_dom_classes": [],
            "_model_name": "HBoxModel",
            "_view_module": "@jupyter-widgets/controls",
            "_model_module_version": "1.5.0",
            "_view_count": null,
            "_view_module_version": "1.5.0",
            "box_style": "",
            "layout": "IPY_MODEL_44496bb91eec4d0491bc189239362468",
            "_model_module": "@jupyter-widgets/controls",
            "children": [
              "IPY_MODEL_7612c10c29e044479e9e60a7fc083227",
              "IPY_MODEL_c3c98923d33d4ac0a258208a9fe4de9b"
            ]
          }
        },
        "44496bb91eec4d0491bc189239362468": {
          "model_module": "@jupyter-widgets/base",
          "model_name": "LayoutModel",
          "state": {
            "_view_name": "LayoutView",
            "grid_template_rows": null,
            "right": null,
            "justify_content": null,
            "_view_module": "@jupyter-widgets/base",
            "overflow": null,
            "_model_module_version": "1.2.0",
            "_view_count": null,
            "flex_flow": "row wrap",
            "width": "100%",
            "min_width": null,
            "border": null,
            "align_items": null,
            "bottom": null,
            "_model_module": "@jupyter-widgets/base",
            "top": null,
            "grid_column": null,
            "overflow_y": null,
            "overflow_x": null,
            "grid_auto_flow": null,
            "grid_area": null,
            "grid_template_columns": null,
            "flex": null,
            "_model_name": "LayoutModel",
            "justify_items": null,
            "grid_row": null,
            "max_height": null,
            "align_content": null,
            "visibility": null,
            "align_self": null,
            "height": null,
            "min_height": null,
            "padding": null,
            "grid_auto_rows": null,
            "grid_gap": null,
            "max_width": null,
            "order": null,
            "_view_module_version": "1.2.0",
            "grid_template_areas": null,
            "object_position": null,
            "object_fit": null,
            "grid_auto_columns": null,
            "margin": null,
            "display": "inline-flex",
            "left": null
          }
        },
        "7612c10c29e044479e9e60a7fc083227": {
          "model_module": "@jupyter-widgets/controls",
          "model_name": "FloatProgressModel",
          "state": {
            "_view_name": "ProgressView",
            "style": "IPY_MODEL_e04b1087e915412291ff0fc96f158ccb",
            "_dom_classes": [],
            "description": "Validating: 100%",
            "_model_name": "FloatProgressModel",
            "bar_style": "info",
            "max": 1838,
            "_view_module": "@jupyter-widgets/controls",
            "_model_module_version": "1.5.0",
            "value": 1838,
            "_view_count": null,
            "_view_module_version": "1.5.0",
            "orientation": "horizontal",
            "min": 0,
            "description_tooltip": null,
            "_model_module": "@jupyter-widgets/controls",
            "layout": "IPY_MODEL_b16eace903d74a6180a94b82518a13c4"
          }
        },
        "c3c98923d33d4ac0a258208a9fe4de9b": {
          "model_module": "@jupyter-widgets/controls",
          "model_name": "HTMLModel",
          "state": {
            "_view_name": "HTMLView",
            "style": "IPY_MODEL_09a64af3192140068414d2b72620b2c7",
            "_dom_classes": [],
            "description": "",
            "_model_name": "HTMLModel",
            "placeholder": "​",
            "_view_module": "@jupyter-widgets/controls",
            "_model_module_version": "1.5.0",
            "value": " 1838/1838 [11:39&lt;00:00,  4.21it/s]",
            "_view_count": null,
            "_view_module_version": "1.5.0",
            "description_tooltip": null,
            "_model_module": "@jupyter-widgets/controls",
            "layout": "IPY_MODEL_d00e6e0ca51040ef9eb0bcc3eccf2a72"
          }
        },
        "e04b1087e915412291ff0fc96f158ccb": {
          "model_module": "@jupyter-widgets/controls",
          "model_name": "ProgressStyleModel",
          "state": {
            "_view_name": "StyleView",
            "_model_name": "ProgressStyleModel",
            "description_width": "initial",
            "_view_module": "@jupyter-widgets/base",
            "_model_module_version": "1.5.0",
            "_view_count": null,
            "_view_module_version": "1.2.0",
            "bar_color": null,
            "_model_module": "@jupyter-widgets/controls"
          }
        },
        "b16eace903d74a6180a94b82518a13c4": {
          "model_module": "@jupyter-widgets/base",
          "model_name": "LayoutModel",
          "state": {
            "_view_name": "LayoutView",
            "grid_template_rows": null,
            "right": null,
            "justify_content": null,
            "_view_module": "@jupyter-widgets/base",
            "overflow": null,
            "_model_module_version": "1.2.0",
            "_view_count": null,
            "flex_flow": null,
            "width": null,
            "min_width": null,
            "border": null,
            "align_items": null,
            "bottom": null,
            "_model_module": "@jupyter-widgets/base",
            "top": null,
            "grid_column": null,
            "overflow_y": null,
            "overflow_x": null,
            "grid_auto_flow": null,
            "grid_area": null,
            "grid_template_columns": null,
            "flex": "2",
            "_model_name": "LayoutModel",
            "justify_items": null,
            "grid_row": null,
            "max_height": null,
            "align_content": null,
            "visibility": null,
            "align_self": null,
            "height": null,
            "min_height": null,
            "padding": null,
            "grid_auto_rows": null,
            "grid_gap": null,
            "max_width": null,
            "order": null,
            "_view_module_version": "1.2.0",
            "grid_template_areas": null,
            "object_position": null,
            "object_fit": null,
            "grid_auto_columns": null,
            "margin": null,
            "display": null,
            "left": null
          }
        },
        "09a64af3192140068414d2b72620b2c7": {
          "model_module": "@jupyter-widgets/controls",
          "model_name": "DescriptionStyleModel",
          "state": {
            "_view_name": "StyleView",
            "_model_name": "DescriptionStyleModel",
            "description_width": "",
            "_view_module": "@jupyter-widgets/base",
            "_model_module_version": "1.5.0",
            "_view_count": null,
            "_view_module_version": "1.2.0",
            "_model_module": "@jupyter-widgets/controls"
          }
        },
        "d00e6e0ca51040ef9eb0bcc3eccf2a72": {
          "model_module": "@jupyter-widgets/base",
          "model_name": "LayoutModel",
          "state": {
            "_view_name": "LayoutView",
            "grid_template_rows": null,
            "right": null,
            "justify_content": null,
            "_view_module": "@jupyter-widgets/base",
            "overflow": null,
            "_model_module_version": "1.2.0",
            "_view_count": null,
            "flex_flow": null,
            "width": null,
            "min_width": null,
            "border": null,
            "align_items": null,
            "bottom": null,
            "_model_module": "@jupyter-widgets/base",
            "top": null,
            "grid_column": null,
            "overflow_y": null,
            "overflow_x": null,
            "grid_auto_flow": null,
            "grid_area": null,
            "grid_template_columns": null,
            "flex": null,
            "_model_name": "LayoutModel",
            "justify_items": null,
            "grid_row": null,
            "max_height": null,
            "align_content": null,
            "visibility": null,
            "align_self": null,
            "height": null,
            "min_height": null,
            "padding": null,
            "grid_auto_rows": null,
            "grid_gap": null,
            "max_width": null,
            "order": null,
            "_view_module_version": "1.2.0",
            "grid_template_areas": null,
            "object_position": null,
            "object_fit": null,
            "grid_auto_columns": null,
            "margin": null,
            "display": null,
            "left": null
          }
        }
      }
    }
  },
  "cells": [
    {
      "cell_type": "code",
      "metadata": {
        "colab": {
          "base_uri": "https://localhost:8080/"
        },
        "id": "jFPVSGXWiQuj",
        "outputId": "6de10f11-ff18-483d-eb22-8d5539baa160"
      },
      "source": [
        "from google.colab import drive\n",
        "drive.mount('/content/drive')"
      ],
      "execution_count": 1,
      "outputs": [
        {
          "output_type": "stream",
          "text": [
            "Mounted at /content/drive\n"
          ],
          "name": "stdout"
        }
      ]
    },
    {
      "cell_type": "code",
      "metadata": {
        "id": "gaXUa2mplL-G"
      },
      "source": [
        "# !unzip /content/drive/MyDrive/stocknet-dataset.zip"
      ],
      "execution_count": 33,
      "outputs": []
    },
    {
      "cell_type": "code",
      "metadata": {
        "trusted": true,
        "id": "tOLSVM3FhTPX"
      },
      "source": [
        "# install dependencies\n",
        "# !pip install wandb pytorch_lightning transformers"
      ],
      "execution_count": 3,
      "outputs": []
    },
    {
      "cell_type": "markdown",
      "metadata": {
        "id": "U0xEIlvQhTPe"
      },
      "source": [
        "#### 1. Dependencies"
      ]
    },
    {
      "cell_type": "code",
      "metadata": {
        "trusted": true,
        "id": "eQUGCs5ghTPe"
      },
      "source": [
        "# utils\n",
        "import gc\n",
        "import os\n",
        "import tqdm\n",
        "import torch\n",
        "import json\n",
        "\n",
        "# data\n",
        "import pandas as pd\n",
        "from torch.utils.data import Dataset, DataLoader\n",
        "from transformers import AutoTokenizer\n",
        "\n",
        "# model\n",
        "import torch.nn as nn\n",
        "from transformers import AutoModel\n",
        "\n",
        "# traning, loggin and evaluation\n",
        "import torch.nn.functional as F\n",
        "import torch.optim as optim\n",
        "import wandb\n",
        "import pytorch_lightning as pl\n",
        "from sklearn.metrics import accuracy_score, precision_score, recall_score, f1_score, classification_report\n",
        "from pytorch_lightning.callbacks import EarlyStopping, ModelCheckpoint\n",
        "from pytorch_lightning.loggers import WandbLogger"
      ],
      "execution_count": 1,
      "outputs": []
    },
    {
      "cell_type": "code",
      "metadata": {
        "id": "a4A_DMY_qaEt"
      },
      "source": [
        "device =torch.device(\"cuda\" if torch.cuda.is_available() else \"cpu\")"
      ],
      "execution_count": 2,
      "outputs": []
    },
    {
      "cell_type": "markdown",
      "metadata": {
        "id": "8PAVsCH6hTPf"
      },
      "source": [
        "#### 2. Datasets\n",
        "- A generic dataset class to create pytorch dataset\n",
        "- No **Text Cleaning** is being performed"
      ]
    },
    {
      "cell_type": "code",
      "metadata": {
        "trusted": true,
        "id": "xa41MkDchTPf"
      },
      "source": [
        "class StonkDataset(Dataset):\n",
        "    \n",
        "    def __init__(self, tokenizer, file, root, max_len=512):\n",
        "        \n",
        "        self.tokenizer = tokenizer\n",
        "        self.data = pd.read_csv(file) # slow but it's ok since we have only few thousand entries\n",
        "        self.max_len=max_len\n",
        "        self.root = root\n",
        "    \n",
        "    def read_file(self, file_name, stock, root):\n",
        "        # read a file from file_location\n",
        "        path = os.path.join(root, stock, file_name)\n",
        "        tweets = []\n",
        "        with open(path) as file:\n",
        "            for line in file:\n",
        "                data = json.loads(line)\n",
        "                tweets.append(\" \".join(data['text']))\n",
        "\n",
        "        # remove the duplicate and preserve the order \n",
        "        \n",
        "        seen = set()\n",
        "        \n",
        "        tweets = [x for x in tweets if not (x in seen or seen.add(x))]\n",
        "        \n",
        "        return tweets\n",
        "    \n",
        "    def __len__(self):\n",
        "        return self.data.shape[0]\n",
        "    \n",
        "    \n",
        "    def __getitem__(self, idx):\n",
        "        \n",
        "        # get the label, stock name, date and tweets from the dataframe\n",
        "        \n",
        "        label = self.data['Trend'].iloc[idx]\n",
        "        \n",
        "        stock = self.data['Stock'].iloc[idx]\n",
        "        \n",
        "        file = self.data['Tweet'].iloc[idx]\n",
        "        \n",
        "        date = self.data['Date'].iloc[idx]\n",
        "        \n",
        "        tweets = self.read_file(file_name=file, stock=stock, root=self.root)\n",
        "        \n",
        "        input_ids = torch.empty((0, self.max_len), dtype=torch.long)\n",
        "        attention_masks = torch.empty((0, self.max_len), dtype=torch.long)\n",
        "        \n",
        "        for tweet in tweets:\n",
        "            input_id, attention_mask = self.encoder(text=tweet)\n",
        "            \n",
        "            input_ids = torch.vstack((input_ids, input_id))\n",
        "            \n",
        "            attention_masks = torch.vstack((attention_masks, attention_mask))\n",
        "        \n",
        "        \n",
        "        return {\n",
        "            \"stock\":stock,\n",
        "            \"date\":date,\n",
        "            \"tweets\":tweets,\n",
        "            \"input_ids\":input_ids,\n",
        "            \"attention_masks\":attention_masks,\n",
        "            \"label\":label\n",
        "        }\n",
        "\n",
        "    \n",
        "    \n",
        "    def encoder(self, text):\n",
        "        \n",
        "        encode = self.tokenizer.encode_plus(\n",
        "            text=text,\n",
        "            padding='max_length',\n",
        "            truncation=True,\n",
        "            max_length=self.max_len,\n",
        "            return_tensors='pt',\n",
        "            return_token_type_ids=True,\n",
        "        )\n",
        "        \n",
        "        return encode['input_ids'].squeeze(), encode['attention_mask'].squeeze()\n",
        "        \n",
        "        "
      ],
      "execution_count": 3,
      "outputs": []
    },
    {
      "cell_type": "markdown",
      "metadata": {
        "id": "Ueix5_59hTPg"
      },
      "source": [
        ""
      ]
    },
    {
      "cell_type": "markdown",
      "metadata": {
        "id": "ilTFIqPzhTPh"
      },
      "source": [
        "#### 3. StonkNet Model"
      ]
    },
    {
      "cell_type": "code",
      "metadata": {
        "trusted": true,
        "id": "NL0iicQ3hTPh"
      },
      "source": [
        "class StonkNet(nn.Module):\n",
        "    \n",
        "    \n",
        "    def __init__(self, config=None):\n",
        "        super(StonkNet, self).__init__()\n",
        "        \n",
        "        self.config = config\n",
        "        \n",
        "        self.base = AutoModel.from_pretrained(pretrained_model_name_or_path=self.config['model_name'])\n",
        "        \n",
        "        # free the RoBERTa \n",
        "        for param in self.base.parameters():\n",
        "            param.requires_grad = False\n",
        "        \n",
        "        # GRU to prcess tweets for current day\n",
        "        self.gru = nn.GRU(\n",
        "            input_size=self.config['hidden_size'],\n",
        "            hidden_size=self.config['hidden_size'],\n",
        "            num_layers=self.config['num_layers'],\n",
        "            batch_first=True,\n",
        "            bidirectional=True,\n",
        "        )\n",
        "        \n",
        "        # classifier on top of GRU's last hidden state\n",
        "        self.classifier = nn.Sequential(*[\n",
        "            nn.Linear(in_features=2*self.config['hidden_size'], out_features=256),\n",
        "            nn.LeakyReLU(),\n",
        "            nn.Linear(in_features=256, out_features=128),\n",
        "            nn.LeakyReLU(),\n",
        "            nn.Linear(in_features=128, out_features=self.config['num_classes'])\n",
        "        ])\n",
        "        \n",
        "        # initialize the hidden state as well as stock name\n",
        "        self.hx = None \n",
        "        self.previous_stock = None\n",
        "        \n",
        "    \n",
        "    \n",
        "    def forward(self, input_ids, attention_masks, current_stock):\n",
        "        \n",
        "        \"\"\"\n",
        "            input_ids.shape = attention_masks.shape = [num_tweets, max_len]\n",
        "        \"\"\"\n",
        "        \n",
        "        outputs = self.base(input_ids=input_ids, attention_mask=attention_masks)\n",
        "        \n",
        "        pooler = outputs['pooler_output']\n",
        "        \n",
        "        # pooler.shape = [num_tweets, hidden_size] \n",
        "        \n",
        "        \n",
        "        # batchifying the pooler output\n",
        "        batch = pooler.unsqueeze(0)\n",
        "        \n",
        "       \n",
        "        # batch.shape = [1, num_tweets, hidden_size]\n",
        "        \n",
        "        # since data has been so we can only use tweets for same stocks\n",
        "        if self.previous_stock==current_stock:\n",
        "            _, hidden = self.gru(input=batch, hx=self.hx)\n",
        "            \n",
        "        else:\n",
        "            _, hidden = self.gru(input=batch, hx=None)\n",
        "            \n",
        "        self.hx = hidden.detach()\n",
        "        self.previous_stock = current_stock\n",
        "        \n",
        "        \n",
        "        # hidden.shape [2, batch_size, hidden_size] # make it batch first again\n",
        "        x = hidden.permute(1, 0, 2)\n",
        "        \n",
        "        x = torch.hstack((x[:, 0, :], x[:, 1, :]))\n",
        "        \n",
        "        \n",
        "        logits = self.classifier(x)\n",
        "        \n",
        "        \n",
        "        return logits\n",
        "        \n",
        "        \n",
        "        "
      ],
      "execution_count": 41,
      "outputs": []
    },
    {
      "cell_type": "markdown",
      "metadata": {
        "id": "NsuSi-4mikQT"
      },
      "source": [
        "#### Context Aware Attention Model"
      ]
    },
    {
      "cell_type": "code",
      "metadata": {
        "id": "uTlKsvN3ij3q"
      },
      "source": [
        "class TweetRNN(nn.Module):\n",
        "    \n",
        "    def __init__(self, model_name=\"roberta-base\", hidden_size=768, bidirectional=True, num_layers=1):\n",
        "        super(TweetRNN, self).__init__()\n",
        "        \n",
        "        \n",
        "        # embedding layer is replaced by pretrained roberta's embedding\n",
        "        self.base = AutoModel.from_pretrained(pretrained_model_name_or_path=model_name) #nn.Embedding(num_embeddings=tokenizer.vocab_size, embedding_dim=768) \n",
        "        #freeze the model parameters\n",
        "        for param in self.base.parameters():\n",
        "            param.requires_grad = False\n",
        "        \n",
        "        #self.embedding = nn.Embedding(num_embeddings=vocab_size, embedding_dim=embedding_size)\n",
        "        self.rnn = nn.RNN(\n",
        "            input_size=hidden_size, \n",
        "            hidden_size=hidden_size, \n",
        "            num_layers=num_layers, \n",
        "            bidirectional=bidirectional,\n",
        "            batch_first=True\n",
        "        )\n",
        "    \n",
        "    def forward(self, input_ids, attention_mask):\n",
        "        \"\"\"\n",
        "            x.shape = [batch_size, seq_len]\n",
        "        \"\"\"\n",
        "        \n",
        "    \n",
        "        outputs = self.base(input_ids, attention_mask)\n",
        "\n",
        "        pooler = outputs['pooler_output']\n",
        "\n",
        "        pooler = outputs['pooler_output'].unsqueeze(0)\n",
        "\n",
        "        # outputs = outputs.mean(dim=1).unsqueeze(0).to(device)\n",
        "        \n",
        "        outputs,_ = self.rnn(pooler)\n",
        "                \n",
        "        return outputs"
      ],
      "execution_count": 4,
      "outputs": []
    },
    {
      "cell_type": "code",
      "metadata": {
        "id": "EQyo4ZCW8HVd"
      },
      "source": [
        "trnn = TweetRNN().to(device)"
      ],
      "execution_count": 53,
      "outputs": []
    },
    {
      "cell_type": "code",
      "metadata": {
        "id": "iMXElrvZ8PvT"
      },
      "source": [
        "outputs = trnn(input_ids=batch['input_ids'].to(device), attention_mask=batch['attention_masks'].to(device))"
      ],
      "execution_count": 79,
      "outputs": []
    },
    {
      "cell_type": "code",
      "metadata": {
        "colab": {
          "base_uri": "https://localhost:8080/"
        },
        "id": "yjBKrMHN8YPu",
        "outputId": "b8da83e8-907a-457f-8563-a9f3b86f965d"
      },
      "source": [
        "outputs.shape"
      ],
      "execution_count": 80,
      "outputs": [
        {
          "output_type": "execute_result",
          "data": {
            "text/plain": [
              "torch.Size([1, 6, 1536])"
            ]
          },
          "metadata": {
            "tags": []
          },
          "execution_count": 80
        }
      ]
    },
    {
      "cell_type": "code",
      "metadata": {
        "id": "6kE1J19C8f4P"
      },
      "source": [
        ""
      ],
      "execution_count": null,
      "outputs": []
    },
    {
      "cell_type": "code",
      "metadata": {
        "id": "CcfaqcTiioNP"
      },
      "source": [
        "class ContextAwareAttention(nn.Module):\n",
        "    \n",
        "    def __init__(self, hidden_size=1536, output_size=768, seq_len=128):\n",
        "        super(ContextAwareAttention, self).__init__()\n",
        "        \n",
        "        # context aware self attention\n",
        "        self.fc_1 = nn.Linear(in_features=hidden_size, out_features=output_size, bias=False)\n",
        "        self.fc_3 = nn.Linear(in_features=hidden_size//2, out_features=output_size, bias=True)\n",
        "        self.fc_2 = nn.Linear(in_features=output_size, out_features=128, bias=False)\n",
        "        \n",
        "        # linear projection\n",
        "        self.linear_projection = nn.Linear(in_features=hidden_size, out_features=1, bias=True)\n",
        "        \n",
        "    \n",
        "    def forward(self, hidden_states, h_forward):\n",
        "        \"\"\"\n",
        "            hidden_states.shape = [batch, seq_len, hidden_size]\n",
        "            h_forward.shape = [1, hidden_size]\n",
        "        \"\"\"\n",
        "        \n",
        "        \n",
        "        # compute the energy\n",
        "        S = self.fc_2(torch.tanh(self.fc_1(hidden_states) + self.fc_3(h_forward.unsqueeze(1)))).squeeze(1)\n",
        "        # S.shape = [batch, seq_len, input_size] # input_size is hyperparameter\n",
        "        \n",
        "        # compute the attention\n",
        "        # print(f\"S.shape = {S.shape}\")\n",
        "\n",
        "        A = S.softmax(dim=-1)\n",
        "        \n",
        "        # Compute the sentence representation\n",
        "        M = torch.matmul(A.permute(0, 2, 1), hidden_states)\n",
        "        \n",
        "        # linear projection of the sentence\n",
        "        x = self.linear_projection(M)\n",
        "        \n",
        "        return x"
      ],
      "execution_count": 5,
      "outputs": []
    },
    {
      "cell_type": "code",
      "metadata": {
        "id": "ROWDr9RA8zXI"
      },
      "source": [
        "h_forward = torch.randn((1, 1, 768), device=device)"
      ],
      "execution_count": 6,
      "outputs": []
    },
    {
      "cell_type": "code",
      "metadata": {
        "id": "7Kx2Bp-68mA-"
      },
      "source": [
        "attn = ContextAwareAttention().to(device)"
      ],
      "execution_count": 59,
      "outputs": []
    },
    {
      "cell_type": "code",
      "metadata": {
        "id": "p5Py8Npw8yzW"
      },
      "source": [
        ""
      ],
      "execution_count": null,
      "outputs": []
    },
    {
      "cell_type": "code",
      "metadata": {
        "id": "YbVDQQeZ8u9h"
      },
      "source": [
        "x = attn(hidden_states=outputs, h_forward=h_forward)"
      ],
      "execution_count": 90,
      "outputs": []
    },
    {
      "cell_type": "code",
      "metadata": {
        "colab": {
          "base_uri": "https://localhost:8080/"
        },
        "id": "1lBooAYx8-yO",
        "outputId": "af3a0d44-e104-45e0-f558-faac314e66e3"
      },
      "source": [
        "x.shape"
      ],
      "execution_count": 91,
      "outputs": [
        {
          "output_type": "execute_result",
          "data": {
            "text/plain": [
              "torch.Size([1, 128, 1])"
            ]
          },
          "metadata": {
            "tags": []
          },
          "execution_count": 91
        }
      ]
    },
    {
      "cell_type": "code",
      "metadata": {
        "id": "LmtEOSkB9GYx"
      },
      "source": [
        ""
      ],
      "execution_count": null,
      "outputs": []
    },
    {
      "cell_type": "code",
      "metadata": {
        "id": "gOwTkVeRirpj"
      },
      "source": [
        "class DailyTweetsRNN(nn.Module):\n",
        "    \n",
        "    def __init__(self, input_size=1, hidden_size=768, bidirectional=True, num_layers=1):\n",
        "        super(DailyTweetsRNN, self).__init__()\n",
        "        \n",
        "        self.rnn = nn.RNN(\n",
        "            input_size=input_size,\n",
        "            hidden_size=hidden_size, \n",
        "            num_layers=num_layers, \n",
        "            bidirectional=bidirectional,\n",
        "            batch_first=True\n",
        "        )\n",
        "        \n",
        "    \n",
        "    def forward(self, input_, hx=None):\n",
        "        \n",
        "        \"\"\"\n",
        "            input_.shape = [batch, input_size] # input_size was chosen in attention module\n",
        "            hx.shape = [2, batch_size, hidden_size]\n",
        "        \"\"\"\n",
        "        \n",
        "        _, hidden = self.rnn(input=input_, hx=hx)\n",
        "        \n",
        "        return hidden"
      ],
      "execution_count": 7,
      "outputs": []
    },
    {
      "cell_type": "code",
      "metadata": {
        "id": "2qj-I2PK9J5B"
      },
      "source": [
        "dtrnn = DailyTweetsRNN().to(device)"
      ],
      "execution_count": 65,
      "outputs": []
    },
    {
      "cell_type": "code",
      "metadata": {
        "id": "VA_NkBBL9OR6"
      },
      "source": [
        "hidden = dtrnn(input_=x)"
      ],
      "execution_count": 93,
      "outputs": []
    },
    {
      "cell_type": "code",
      "metadata": {
        "colab": {
          "base_uri": "https://localhost:8080/"
        },
        "id": "HUi_K7Nm9S19",
        "outputId": "1bca6ceb-b9f0-4152-b5c0-372babcc8d1a"
      },
      "source": [
        "hidden.shape"
      ],
      "execution_count": 94,
      "outputs": [
        {
          "output_type": "execute_result",
          "data": {
            "text/plain": [
              "torch.Size([2, 1, 768])"
            ]
          },
          "metadata": {
            "tags": []
          },
          "execution_count": 94
        }
      ]
    },
    {
      "cell_type": "code",
      "metadata": {
        "id": "iS_sX4t2ivVg"
      },
      "source": [
        "class ContextAwareStonkNet(nn.Module):\n",
        "    \n",
        "    def __init__(self, model_name=\"roberta-base\", hidden_size=768, num_classes=2):\n",
        "        \n",
        "        super(ContextAwareStonkNet, self).__init__()\n",
        "        \n",
        "        self.in_features = 2*hidden_size\n",
        "        \n",
        "        # utterance encoder model\n",
        "        self.tweet_rnn = TweetRNN(model_name=model_name, hidden_size=hidden_size)\n",
        "        \n",
        "        # context aware self attention module\n",
        "        self.context_aware_attention = ContextAwareAttention(hidden_size=2*hidden_size, output_size=hidden_size, seq_len=128)\n",
        "        \n",
        "        # conversaton level rnn\n",
        "        self.daily_tweets = DailyTweetsRNN(input_size=1, hidden_size=hidden_size)\n",
        "        \n",
        "        # classifier on top of feature extractor\n",
        "        self.classifier = nn.Sequential(*[\n",
        "            nn.Linear(in_features=self.in_features, out_features=256),\n",
        "            nn.LeakyReLU(),\n",
        "            nn.Linear(in_features=256, out_features=128),\n",
        "            nn.LeakyReLU(),\n",
        "            nn.Linear(in_features=128, out_features=num_classes)\n",
        "        ])\n",
        "        \n",
        "        # initial hidden_states\n",
        "        self.hx = torch.randn((2, 1, hidden_size)).to(device)\n",
        "        \n",
        "    \n",
        "    def forward(self, input_ids, attention_mask, current_stock):\n",
        "        \"\"\"\n",
        "            x.shape = [batch, seq_len, hidden_size]\n",
        "        \"\"\"\n",
        "        \n",
        "        \n",
        "        outputs = self.tweet_rnn(input_ids=input_ids, attention_mask=attention_mask)\n",
        "        # outputs.shape = [1, tweets, 2*768]\n",
        "\n",
        "        \n",
        "        # hidden\n",
        "        hx = self.hx\n",
        "        \n",
        "            \n",
        "        # get sentence representation as 2d-matrix and project it linearly\n",
        "        m = self.context_aware_attention(hidden_states=outputs, h_forward=hx[0].detach().unsqueeze(0))\n",
        "\n",
        "        # print(f'm.shape = {m.shape}')\n",
        "        \n",
        "        # apply rnn on linearly porjected vector\n",
        "        hx = self.daily_tweets(input_=m, hx=hx.detach())\n",
        "\n",
        "        # print(f'hx.shape = {hx.shape}')\n",
        "        \n",
        "        # concat current utterance's last hidden state to the features vector\n",
        "        features = hx.view(1, -1).to(device)\n",
        "            \n",
        "        \n",
        "        self.hx = hx.detach()\n",
        "        \n",
        "        logits = self.classifier(features)\n",
        "        \n",
        "        return logits"
      ],
      "execution_count": 8,
      "outputs": []
    },
    {
      "cell_type": "code",
      "metadata": {
        "id": "ZU__xJPg-YLN"
      },
      "source": [
        ""
      ],
      "execution_count": null,
      "outputs": []
    },
    {
      "cell_type": "markdown",
      "metadata": {
        "id": "9araEKeKhTPi"
      },
      "source": [
        "#### 4. PyTorch Lightning Trainer "
      ]
    },
    {
      "cell_type": "code",
      "metadata": {
        "trusted": true,
        "id": "3BUxXGlmhTPj"
      },
      "source": [
        "class LightningModel(pl.LightningModule):\n",
        "    \n",
        "    def __init__(self, model, config):\n",
        "        super(LightningModel, self).__init__()\n",
        "        \n",
        "        self.config = config\n",
        "        self.model = model #StonkNet(config=config)\n",
        "        \n",
        "        self.tokenizer = AutoTokenizer.from_pretrained(config['model_name'])\n",
        "        \n",
        "    def forward(self, input_ids, attention_masks, current_stock):\n",
        "        logits = self.model(input_ids=input_ids.squeeze(0), attention_mask=attention_masks.squeeze(0), current_stock=current_stock[0])\n",
        "        return logits\n",
        "    \n",
        "    def configure_optimizers(self):\n",
        "        return optim.Adam(params=self.parameters(), lr=self.config['lr'])\n",
        "    \n",
        "    def train_dataloader(self):\n",
        "        train_dataset = StonkDataset(tokenizer=self.tokenizer, file=self.config['train_file'], root=self.config['root'])\n",
        "        train_loader = DataLoader(dataset=train_dataset, batch_size=self.config['batch_size'], shuffle=False, num_workers=self.config['num_workers'])\n",
        "        return train_loader\n",
        "    \n",
        "    def training_step(self, batch, batch_idx):\n",
        "        \n",
        "        labels = batch['label']\n",
        "        logits = self(input_ids=batch['input_ids'], attention_masks=batch['attention_masks'], current_stock=batch['stock'])\n",
        "        loss = F.cross_entropy(logits, labels)\n",
        "        \n",
        "        acc = accuracy_score(labels.cpu(), logits.argmax(dim=1).cpu())\n",
        "        f1 = f1_score(labels.cpu(), logits.argmax(dim=1).cpu(), average=self.config['average'])\n",
        "        \n",
        "        wandb.log({\"loss\":loss, \"accuracy\":acc, \"f1_score\":f1})\n",
        "        return {\"loss\":loss, \"accuracy\":acc, \"f1_score\":f1}\n",
        "    \n",
        "    def val_dataloader(self):\n",
        "        valid_dataset = StonkDataset(tokenizer=self.tokenizer, file=self.config['valid_file'], root=self.config['root'])\n",
        "        valid_loader = DataLoader(dataset=valid_dataset, batch_size=self.config['batch_size'], shuffle=False, num_workers=self.config['num_workers'])\n",
        "        return valid_loader\n",
        "    \n",
        "    def validation_step(self, batch, batch_idx):\n",
        "        \n",
        "        labels = batch['label']\n",
        "        logits = self(input_ids=batch['input_ids'], attention_masks=batch['attention_masks'], current_stock=batch['stock'])\n",
        "        loss = F.cross_entropy(logits, labels)\n",
        "        \n",
        "        acc = accuracy_score(labels.cpu(), logits.argmax(dim=1).cpu())\n",
        "        f1 = f1_score(labels.cpu(), logits.argmax(dim=1).cpu(), average=self.config['average'])\n",
        "        precision = precision_score(labels.cpu(), logits.argmax(dim=1).cpu(), average=self.config['average'])\n",
        "        recall = recall_score(labels.cpu(), logits.argmax(dim=1).cpu(), average=self.config['average'])\n",
        "        return {\"val_loss\":loss, \"val_accuracy\":torch.tensor([acc]), \"val_f1\":torch.tensor([f1]), \"val_precision\":torch.tensor([precision]), \"val_recall\":torch.tensor([recall])}\n",
        "    \n",
        "    def validation_epoch_end(self, outputs):\n",
        "        avg_loss = torch.stack([x['val_loss'] for x in outputs]).mean()\n",
        "        avg_acc = torch.stack([x['val_accuracy'] for x in outputs]).mean()\n",
        "        avg_f1 = torch.stack([x['val_f1'] for x in outputs]).mean()\n",
        "        avg_precision = torch.stack([x['val_precision'] for x in outputs]).mean()\n",
        "        avg_recall = torch.stack([x['val_recall'] for x in outputs]).mean()\n",
        "        wandb.log({\"val_loss\":avg_loss, \"val_accuracy\":avg_acc, \"val_f1\":avg_f1, \"val_precision\":avg_precision, \"val_recall\":avg_recall})\n",
        "        return {\"val_loss\":avg_loss, \"val_accuracy\":avg_acc, \"val_f1\":avg_f1, \"val_precision\":avg_precision, \"val_recall\":avg_recall}\n",
        "    \n",
        "    def test_dataloader(self):\n",
        "        test_dataset = StonkDataset(tokenizer=self.tokenizer, file=self.config['valid_file'], root=self.config['root'])\n",
        "        test_loader = DataLoader(dataset=test_dataset, batch_size=self.config['batch_size'], shuffle=False, num_workers=self.config['num_workers'])\n",
        "        return test_loader\n",
        "    \n",
        "    def test_step(self, batch, batch_idx):\n",
        "        \n",
        "        labels = batch['label']\n",
        "        logits = self(input_ids=batch['input_ids'], attention_masks=batch['attention_masks'], current_stock=batch['stock'])\n",
        "        loss = F.cross_entropy(logits, labels)\n",
        "        \n",
        "        acc = accuracy_score(labels.cpu(), logits.argmax(dim=1).cpu())\n",
        "        f1 = f1_score(labels.cpu(), logits.argmax(dim=1).cpu(), average=self.config['average'])\n",
        "        precision = precision_score(labels.cpu(), logits.argmax(dim=1).cpu(), average=self.config['average'])\n",
        "        recall = recall_score(labels.cpu(), logits.argmax(dim=1).cpu(), average=self.config['average'])\n",
        "        return {\"test_loss\":loss, \"test_precision\":torch.tensor([precision]), \"test_recall\":torch.tensor([recall]), \"test_accuracy\":torch.tensor([acc]), \"test_f1\":torch.tensor([f1])}\n",
        "    \n",
        "    def test_epoch_end(self, outputs):\n",
        "        avg_loss = torch.stack([x['test_loss'] for x in outputs]).mean()\n",
        "        avg_acc = torch.stack([x['test_accuracy'] for x in outputs]).mean()\n",
        "        avg_f1 = torch.stack([x['test_f1'] for x in outputs]).mean()\n",
        "        avg_precision = torch.stack([x['test_precision'] for x in outputs]).mean()\n",
        "        avg_recall = torch.stack([x['test_recall'] for x in outputs]).mean()\n",
        "        return {\"test_loss\":avg_loss, \"test_precision\":avg_precision, \"test_recall\":avg_recall, \"test_acc\":avg_acc, \"test_f1\":avg_f1}"
      ],
      "execution_count": 9,
      "outputs": []
    },
    {
      "cell_type": "code",
      "metadata": {
        "trusted": true,
        "id": "djz8uVSkhTPl"
      },
      "source": [
        "config  = {\n",
        "    \n",
        "    # data \n",
        "    \"root\":\"./stocknet-dataset/tweet/preprocessed/\",\n",
        "    \"train_file\":\"./stocknet-dataset/train.csv\",\n",
        "    \"valid_file\":\"./stocknet-dataset/valid.csv\",\n",
        "\n",
        "    \"max_len\":512,\n",
        "    \"batch_size\":1,\n",
        "    \"num_workers\":4,\n",
        "    \n",
        "    # model\n",
        "    \"model_name\":\"roberta-base\", #'distilbert-base-uncased',\n",
        "    \"hidden_size\":768,\n",
        "    \"num_classes\":2,\n",
        "    \"num_layers\":1,\n",
        "    \n",
        "    # training\n",
        "    \"save_dir\":\"./\",\n",
        "    \"project\":\"stonk-net\",\n",
        "    \"run_name\":\"context-aware-attention-1\",\n",
        "    \"lr\":1e-5,\n",
        "    \"monitor\":\"val_f1\",\n",
        "    \"min_delta\":0.001,\n",
        "    \"filepath\":\"./checkpoints/{epoch}-{val_f1:4f}\",\n",
        "    \"precision\":32,\n",
        "    \"average\":\"macro\",\n",
        "    \"epochs\":5,\n",
        "    \"device\":torch.device(\"cuda\" if torch.cuda.is_available() else \"cpu\"),\n",
        "}"
      ],
      "execution_count": 10,
      "outputs": []
    },
    {
      "cell_type": "code",
      "metadata": {
        "id": "jEn6dYOsq51n"
      },
      "source": [
        "tokenizer = AutoTokenizer.from_pretrained(config['model_name'])"
      ],
      "execution_count": 11,
      "outputs": []
    },
    {
      "cell_type": "code",
      "metadata": {
        "id": "jyQEbqQMq3x2"
      },
      "source": [
        "valid_dataset = StonkDataset(tokenizer=tokenizer, file=config['valid_file'], root=config['root'])\n",
        "valid_loader = DataLoader(dataset=valid_dataset, batch_size=config['batch_size'], shuffle=False, num_workers=config['num_workers'])"
      ],
      "execution_count": 26,
      "outputs": []
    },
    {
      "cell_type": "code",
      "metadata": {
        "id": "nmZ-qiiKrITk"
      },
      "source": [
        "batch = valid_dataset[389]"
      ],
      "execution_count": 35,
      "outputs": []
    },
    {
      "cell_type": "code",
      "metadata": {
        "id": "9xNPu98Q6mDG"
      },
      "source": [
        "# batch['input_ids'].shape"
      ],
      "execution_count": 34,
      "outputs": []
    },
    {
      "cell_type": "code",
      "metadata": {
        "id": "3AFhfFua6oPX"
      },
      "source": [
        ""
      ],
      "execution_count": null,
      "outputs": []
    },
    {
      "cell_type": "markdown",
      "metadata": {
        "id": "ywAFw-sihTPl"
      },
      "source": [
        "##### Logging"
      ]
    },
    {
      "cell_type": "code",
      "metadata": {
        "trusted": true,
        "colab": {
          "base_uri": "https://localhost:8080/"
        },
        "id": "tRYmAjTWhTPm",
        "outputId": "4d89d1f7-a7f1-4655-81c6-4fe621688e20"
      },
      "source": [
        "logger = WandbLogger(\n",
        "    name=config['run_name'],\n",
        "    save_dir=config[\"save_dir\"],\n",
        "    project=config[\"project\"],\n",
        "    log_model=True,\n",
        ")\n",
        "early_stopping = EarlyStopping(\n",
        "    monitor=config[\"monitor\"],\n",
        "    min_delta=config[\"min_delta\"],\n",
        "    patience=5,\n",
        ")\n",
        "checkpoints = ModelCheckpoint(\n",
        "    filepath=config[\"filepath\"],\n",
        "    monitor=config[\"monitor\"],\n",
        "    save_top_k=1\n",
        ")"
      ],
      "execution_count": 12,
      "outputs": [
        {
          "output_type": "stream",
          "text": [
            "/usr/local/lib/python3.6/dist-packages/pytorch_lightning/utilities/distributed.py:50: UserWarning: Checkpoint directory /content/checkpoints exists and is not empty.\n",
            "  warnings.warn(*args, **kwargs)\n"
          ],
          "name": "stderr"
        }
      ]
    },
    {
      "cell_type": "code",
      "metadata": {
        "trusted": true,
        "colab": {
          "base_uri": "https://localhost:8080/"
        },
        "id": "byCTZJAEhTPm",
        "outputId": "325e623e-5200-4df0-f652-59b42090fe7e"
      },
      "source": [
        "trainer = pl.Trainer(\n",
        "    logger=logger,\n",
        "    gpus=[0],\n",
        "    checkpoint_callback=checkpoints,\n",
        "    callbacks=[early_stopping],\n",
        "    default_root_dir=\"./models/\",\n",
        "    max_epochs=config[\"epochs\"],\n",
        "    precision=config[\"precision\"],\n",
        "    automatic_optimization=True\n",
        ")"
      ],
      "execution_count": 13,
      "outputs": [
        {
          "output_type": "stream",
          "text": [
            "/usr/local/lib/python3.6/dist-packages/pytorch_lightning/utilities/distributed.py:50: UserWarning: You have set progress_bar_refresh_rate < 20 on Google Colab. This may crash. Consider using progress_bar_refresh_rate >= 20 in Trainer.\n",
            "  warnings.warn(*args, **kwargs)\n",
            "GPU available: True, used: True\n",
            "TPU available: None, using: 0 TPU cores\n",
            "LOCAL_RANK: 0 - CUDA_VISIBLE_DEVICES: [0]\n",
            "/usr/local/lib/python3.6/dist-packages/pytorch_lightning/utilities/distributed.py:50: UserWarning: Disable automatic optimization with the trainer flag is deprecated and will be removed in v1.3.0!Please use the property on the LightningModule for disabling automatic optimization\n",
            "  warnings.warn(*args, **kwargs)\n"
          ],
          "name": "stderr"
        }
      ]
    },
    {
      "cell_type": "code",
      "metadata": {
        "id": "RAm4Yh7WjToj"
      },
      "source": [
        "net = ContextAwareStonkNet()"
      ],
      "execution_count": 14,
      "outputs": []
    },
    {
      "cell_type": "code",
      "metadata": {
        "trusted": true,
        "id": "wZcWHAMphTPn"
      },
      "source": [
        "model = LightningModel(model=net, config=config)"
      ],
      "execution_count": 15,
      "outputs": []
    },
    {
      "cell_type": "code",
      "metadata": {
        "trusted": true,
        "colab": {
          "base_uri": "https://localhost:8080/",
          "height": 458,
          "referenced_widgets": [
            "aab2656a71484487b2a2d8edb47de449",
            "155609510ea14741813a0dfc2e750dd0",
            "b446c642afe94d54b2b4b85fef4a486e",
            "c69c27bdb0ea49129353f67e8b82c630",
            "034a9f6e381443a2af2cbac41521fb3e",
            "9f7d9b4df1cc4253b42861ada8fc3cbb",
            "e665f04941c64a868013ae0000254ebe",
            "84286669d30845abb628b9bb05c2f504",
            "2998793d2285429b9a4557a9a9801a53",
            "4c4170bd1bc240c7a6e9f1f533e009df",
            "6feb41c02afa4bc49d875d7747d59eaf",
            "ee006fb7a42a4260af4e512af39c8563",
            "60c8012ca42e49c0802eb5b901905e5a",
            "d8bf76abd7654b56acf6305567e324d3",
            "ef31e405544b44188e8c35758a0f8d77",
            "367e1f6264b64635ac29ed7542e0c6aa",
            "361b986d412b4172b543bc418aea288a",
            "270afa10327341dcabda436b88eb5021",
            "92eea6a795a54b389427af54b02b91b8",
            "d743568896274ea4a8bc974646efaddc",
            "f37bcc91923e4f3e9a19b28b925d1e11",
            "2b0a596153a242838a11ce75de30cb08",
            "27c6fe1954134a69b1b6e70c258bed52",
            "c6f3939fc5fc4b7096d2488fd65539b4",
            "84aca56721fb446782f351868a8fa8fa",
            "44496bb91eec4d0491bc189239362468",
            "7612c10c29e044479e9e60a7fc083227",
            "c3c98923d33d4ac0a258208a9fe4de9b",
            "e04b1087e915412291ff0fc96f158ccb",
            "b16eace903d74a6180a94b82518a13c4",
            "09a64af3192140068414d2b72620b2c7",
            "d00e6e0ca51040ef9eb0bcc3eccf2a72"
          ]
        },
        "id": "caXpvL2EhTPn",
        "outputId": "bfd86f41-469f-496f-b4a3-299c9e96cadd"
      },
      "source": [
        "trainer.fit(model)"
      ],
      "execution_count": null,
      "outputs": [
        {
          "output_type": "stream",
          "text": [
            "\u001b[34m\u001b[1mwandb\u001b[0m: Currently logged in as: \u001b[33mmacab\u001b[0m (use `wandb login --relogin` to force relogin)\n"
          ],
          "name": "stderr"
        },
        {
          "output_type": "display_data",
          "data": {
            "text/html": [
              "\n",
              "                Tracking run with wandb version 0.10.19<br/>\n",
              "                Syncing run <strong style=\"color:#cdcd00\">context-aware-attention-1</strong> to <a href=\"https://wandb.ai\" target=\"_blank\">Weights & Biases</a> <a href=\"https://docs.wandb.com/integrations/jupyter.html\" target=\"_blank\">(Documentation)</a>.<br/>\n",
              "                Project page: <a href=\"https://wandb.ai/macab/stonk-net\" target=\"_blank\">https://wandb.ai/macab/stonk-net</a><br/>\n",
              "                Run page: <a href=\"https://wandb.ai/macab/stonk-net/runs/2qo4bv6u\" target=\"_blank\">https://wandb.ai/macab/stonk-net/runs/2qo4bv6u</a><br/>\n",
              "                Run data is saved locally in <code>./wandb/run-20210215_091833-2qo4bv6u</code><br/><br/>\n",
              "            "
            ],
            "text/plain": [
              "<IPython.core.display.HTML object>"
            ]
          },
          "metadata": {
            "tags": []
          }
        },
        {
          "output_type": "stream",
          "text": [
            "\n",
            "  | Name  | Type                 | Params\n",
            "-----------------------------------------------\n",
            "0 | model | ContextAwareStonkNet | 130 M \n",
            "-----------------------------------------------\n",
            "5.8 M     Trainable params\n",
            "124 M     Non-trainable params\n",
            "130 M     Total params\n"
          ],
          "name": "stderr"
        },
        {
          "output_type": "display_data",
          "data": {
            "application/vnd.jupyter.widget-view+json": {
              "model_id": "aab2656a71484487b2a2d8edb47de449",
              "version_major": 2,
              "version_minor": 0
            },
            "text/plain": [
              "HBox(children=(FloatProgress(value=1.0, bar_style='info', description='Validation sanity check', layout=Layout…"
            ]
          },
          "metadata": {
            "tags": []
          }
        },
        {
          "output_type": "stream",
          "text": [
            "\r"
          ],
          "name": "stdout"
        },
        {
          "output_type": "stream",
          "text": [
            "/usr/local/lib/python3.6/dist-packages/pytorch_lightning/utilities/distributed.py:50: UserWarning: The validation_epoch_end should not return anything as of 9.1. To log, use self.log(...) or self.write(...) directly in the LightningModule\n",
            "  warnings.warn(*args, **kwargs)\n"
          ],
          "name": "stderr"
        },
        {
          "output_type": "display_data",
          "data": {
            "application/vnd.jupyter.widget-view+json": {
              "model_id": "2998793d2285429b9a4557a9a9801a53",
              "version_major": 2,
              "version_minor": 0
            },
            "text/plain": [
              "HBox(children=(FloatProgress(value=1.0, bar_style='info', description='Training', layout=Layout(flex='2'), max…"
            ]
          },
          "metadata": {
            "tags": []
          }
        },
        {
          "output_type": "display_data",
          "data": {
            "application/vnd.jupyter.widget-view+json": {
              "model_id": "361b986d412b4172b543bc418aea288a",
              "version_minor": 0,
              "version_major": 2
            },
            "text/plain": [
              "HBox(children=(FloatProgress(value=1.0, bar_style='info', description='Validating', layout=Layout(flex='2'), m…"
            ]
          },
          "metadata": {
            "tags": []
          }
        },
        {
          "output_type": "stream",
          "text": [
            "/usr/local/lib/python3.6/dist-packages/sklearn/metrics/_classification.py:1272: UndefinedMetricWarning: Precision is ill-defined and being set to 0.0 in labels with no predicted samples. Use `zero_division` parameter to control this behavior.\n",
            "  _warn_prf(average, modifier, msg_start, len(result))\n",
            "/usr/local/lib/python3.6/dist-packages/sklearn/metrics/_classification.py:1272: UndefinedMetricWarning: Recall is ill-defined and being set to 0.0 in labels with no true samples. Use `zero_division` parameter to control this behavior.\n",
            "  _warn_prf(average, modifier, msg_start, len(result))\n"
          ],
          "name": "stderr"
        },
        {
          "output_type": "display_data",
          "data": {
            "application/vnd.jupyter.widget-view+json": {
              "model_id": "84aca56721fb446782f351868a8fa8fa",
              "version_minor": 0,
              "version_major": 2
            },
            "text/plain": [
              "HBox(children=(FloatProgress(value=1.0, bar_style='info', description='Validating', layout=Layout(flex='2'), m…"
            ]
          },
          "metadata": {
            "tags": []
          }
        }
      ]
    },
    {
      "cell_type": "code",
      "metadata": {
        "trusted": true,
        "id": "gZ37ATpshTPo"
      },
      "source": [
        "trainer.test(model)"
      ],
      "execution_count": null,
      "outputs": []
    },
    {
      "cell_type": "code",
      "metadata": {
        "trusted": true,
        "id": "o8NSicjyhTPo"
      },
      "source": [
        "m = StonkNet(config=config)"
      ],
      "execution_count": null,
      "outputs": []
    },
    {
      "cell_type": "code",
      "metadata": {
        "trusted": true,
        "id": "Ci3m2iz4hTPo",
        "outputId": "5242c083-cfc5-4391-fe0d-1c9b729ff2a6"
      },
      "source": [
        "print(batch['input_ids'].shape, batch['attention_masks'].shape, len(batch['stock']))"
      ],
      "execution_count": null,
      "outputs": [
        {
          "output_type": "stream",
          "text": [
            "torch.Size([1, 36, 512]) torch.Size([1, 36, 512]) 1\n"
          ],
          "name": "stdout"
        }
      ]
    },
    {
      "cell_type": "code",
      "metadata": {
        "trusted": true,
        "id": "O7T3e6iBhTPo"
      },
      "source": [
        "logits = m.forward(input_ids=batch['input_ids'].squeeze(0), attention_masks=batch['attention_masks'].squeeze(0), current_stock=batch['stock'])"
      ],
      "execution_count": null,
      "outputs": []
    },
    {
      "cell_type": "code",
      "metadata": {
        "trusted": true,
        "id": "MqKY8BHGhTPo",
        "outputId": "b6a14027-fa0a-4f46-af1f-f31fb1d2b3b9"
      },
      "source": [
        "logits.shape"
      ],
      "execution_count": null,
      "outputs": [
        {
          "output_type": "execute_result",
          "data": {
            "text/plain": [
              "torch.Size([1, 2])"
            ]
          },
          "metadata": {
            "tags": []
          },
          "execution_count": 74
        }
      ]
    },
    {
      "cell_type": "code",
      "metadata": {
        "trusted": true,
        "id": "YAerRWbkhTPp",
        "outputId": "9e51b226-15fd-4415-a66b-6db4a9da44c0"
      },
      "source": [
        "batch['label'].shape"
      ],
      "execution_count": null,
      "outputs": [
        {
          "output_type": "execute_result",
          "data": {
            "text/plain": [
              "torch.Size([1])"
            ]
          },
          "metadata": {
            "tags": []
          },
          "execution_count": 75
        }
      ]
    },
    {
      "cell_type": "code",
      "metadata": {
        "trusted": true,
        "id": "o5BskO6mhTPp"
      },
      "source": [
        ""
      ],
      "execution_count": null,
      "outputs": []
    }
  ]
}